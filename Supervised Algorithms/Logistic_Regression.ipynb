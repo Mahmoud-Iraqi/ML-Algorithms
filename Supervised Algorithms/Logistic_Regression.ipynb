{
 "cells": [
  {
   "cell_type": "code",
   "execution_count": 1,
   "id": "bcbd53ed-7e3a-45d5-abf5-a99e69e8a046",
   "metadata": {},
   "outputs": [],
   "source": [
    "import numpy as np"
   ]
  },
  {
   "cell_type": "code",
   "execution_count": 2,
   "id": "546d04da-8148-4c23-b792-27699f04e0de",
   "metadata": {},
   "outputs": [],
   "source": [
    "class LogisticRegression:\n",
    "    def __init__(self , learning_rate = 0.001 , n_iters = 1000):\n",
    "        self.learning_rate = learning_rate\n",
    "        self.n_iters = n_iters\n",
    "        self.weight = None\n",
    "        self.bias = None\n",
    "\n",
    "    def _sigmoid(slef , x):\n",
    "        return 1 / (1 + np.exp(-x))\n",
    "\n",
    "    def fit(self , X , y):\n",
    "        n_sample , n_features = X.shape\n",
    "        self.weight = np.zeros(n_features)\n",
    "        self.bias = 0\n",
    "\n",
    "        for _ in range(self.n_iters):\n",
    "            linear_model = np.dot(X , self.weight) + self.bias\n",
    "            y_predicted = self._sigmoid(linear_model)\n",
    "\n",
    "            dw = (1 / n_sample) * np.dot(X.T , (y_predicted - y))\n",
    "            db = (1 / n_sample) * np.sum(y_predicted - y)\n",
    "\n",
    "            self.weight -= self.learning_rate * dw\n",
    "            self.bias -= self.learning_rate * db\n",
    "            \n",
    "    def predict(self , X):\n",
    "        linear_model = np.dot( X, self.weight) + self.bias\n",
    "        y_predicted = self._sigmoid(linear_model)\n",
    "        y_predict_cls = [1 if i >= 0.5 else 0 for i in y_predicted]\n",
    "        return y_predict_cls\n",
    "        "
   ]
  },
  {
   "cell_type": "markdown",
   "id": "a61048d2-0198-4c1f-b0d7-3cf4d8ff41da",
   "metadata": {},
   "source": [
    "# Testing"
   ]
  },
  {
   "cell_type": "code",
   "execution_count": 3,
   "id": "0858d1d7-ca23-4470-abd9-b979c137949e",
   "metadata": {},
   "outputs": [],
   "source": [
    "from sklearn.model_selection import train_test_split\n",
    "from sklearn import datasets"
   ]
  },
  {
   "cell_type": "code",
   "execution_count": 4,
   "id": "5f19cd31-6215-4a04-82a0-1040e4e57ce2",
   "metadata": {},
   "outputs": [],
   "source": [
    "bc = datasets.load_breast_cancer()\n",
    "X, y = bc.data, bc.target\n",
    "\n",
    "X_train, X_test, y_train, y_test = train_test_split( X, y, test_size=0.2, random_state=43)"
   ]
  },
  {
   "cell_type": "code",
   "execution_count": 5,
   "id": "c3cba28d-16a6-45f8-8591-a5876f1a78db",
   "metadata": {},
   "outputs": [],
   "source": [
    "regressor = LogisticRegression(learning_rate = 0.0001)\n",
    "regressor.fit(X_train, y_train)\n",
    "predictions = regressor.predict(X_test)"
   ]
  },
  {
   "cell_type": "code",
   "execution_count": 6,
   "id": "011b68a4-0933-4e77-b646-5475147a1251",
   "metadata": {},
   "outputs": [],
   "source": [
    "def accuracy(y_true, y_pred):\n",
    "        accuracy = np.sum(y_true == y_pred) / len(y_true)\n",
    "        return accuracy"
   ]
  },
  {
   "cell_type": "code",
   "execution_count": 7,
   "id": "0963359a-f9f9-4feb-bf51-3b33d4037abd",
   "metadata": {},
   "outputs": [
    {
     "name": "stdout",
     "output_type": "stream",
     "text": [
      "LR classification accuracy: 0.9385964912280702\n"
     ]
    }
   ],
   "source": [
    "print(\"LR classification accuracy:\", accuracy(y_test, predictions))"
   ]
  },
  {
   "cell_type": "code",
   "execution_count": null,
   "id": "a0fcdb62-ace2-48da-b7ad-6f7f988849af",
   "metadata": {},
   "outputs": [],
   "source": []
  }
 ],
 "metadata": {
  "kernelspec": {
   "display_name": "Python [conda env:base] *",
   "language": "python",
   "name": "conda-base-py"
  },
  "language_info": {
   "codemirror_mode": {
    "name": "ipython",
    "version": 3
   },
   "file_extension": ".py",
   "mimetype": "text/x-python",
   "name": "python",
   "nbconvert_exporter": "python",
   "pygments_lexer": "ipython3",
   "version": "3.12.7"
  }
 },
 "nbformat": 4,
 "nbformat_minor": 5
}
